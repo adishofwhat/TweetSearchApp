{
 "cells": [
  {
   "cell_type": "code",
   "execution_count": 74,
   "metadata": {
    "id": "TD55pP8lE7y7"
   },
   "outputs": [],
   "source": [
    "import threading\n",
    "import time\n",
    "import re\n",
    "import json\n",
    "from collections import OrderedDict"
   ]
  },
  {
   "cell_type": "code",
   "execution_count": 75,
   "metadata": {
    "id": "S9xdAMHoE-Ap"
   },
   "outputs": [],
   "source": [
    "class TweetCache:\n",
    "    def __init__(self, max_size=30):\n",
    "        self.cache = OrderedDict()  \n",
    "        self.id_list = []  \n",
    "        self.max_size = max_size  \n",
    "        self.refresh_time = 30 * 60\n",
    "        self.last_refresh_time = time.time()\n",
    "\n",
    "        self.refresh_thread = threading.Thread(target=self._auto_refresh_cache)\n",
    "        self.refresh_thread.daemon = True\n",
    "        self.refresh_thread.start()\n",
    "\n",
    "    def _refresh_cache(self):\n",
    "        print(\"Refreshing cache...\")\n",
    "        current_time = time.time()\n",
    "        expired_items = []\n",
    "        for query_id, data in self.cache.items():\n",
    "            if current_time - data[\"timestamp\"] >= self.refresh_time:\n",
    "                expired_items.append(query_id)\n",
    "        for query_id in expired_items:\n",
    "            del self.cache[query_id]\n",
    "            self.id_list.remove(query_id)  \n",
    "        self.last_refresh_time = current_time\n",
    "\n",
    "    def _normalize_query_input(self, query):\n",
    "        normalized_values = {key: self._clean_text(str(value).lower()) for key, value in query.items()}\n",
    "        return normalized_values\n",
    "\n",
    "    def _clean_text(self, text):\n",
    "        cleaned_text = re.sub(r'[^a-zA-Z0-9\\s]', '', text)\n",
    "        return cleaned_text.strip()\n",
    "\n",
    "    def _get_ui_input_concatenated(self, query):\n",
    "        return ''.join(self._normalize_query_input(query).values())\n",
    "\n",
    "    def add_to_cache(self, query, data):\n",
    "        ui_input_concatenated = self._get_ui_input_concatenated(query)\n",
    "        if ui_input_concatenated in self.cache:\n",
    "            del self.cache[ui_input_concatenated]  \n",
    "            self.id_list.remove(ui_input_concatenated)\n",
    "        elif len(self.cache) >= self.max_size:  \n",
    "            oldest_key = next(iter(self.cache))\n",
    "            del self.cache[oldest_key]\n",
    "            self.id_list.remove(oldest_key)\n",
    "        self.cache[ui_input_concatenated] = {\n",
    "            'ID': ui_input_concatenated,\n",
    "            'Query': query,\n",
    "            'data': data,\n",
    "            'timestamp': time.time()  \n",
    "        }\n",
    "        self.id_list.append(ui_input_concatenated)  \n",
    "        \n",
    "    def get_from_cache(self, query):\n",
    "        ui_input_concatenated = self._get_ui_input_concatenated(query)\n",
    "        if ui_input_concatenated in self.cache:\n",
    "            self.cache.move_to_end(ui_input_concatenated)  \n",
    "            return self.cache[ui_input_concatenated]\n",
    "        return None\n",
    "\n",
    "    def display_cache(self):\n",
    "        print(\"Current Cache Contents:\")\n",
    "        print(\"ID List:\", self.id_list)\n",
    "        print(\"--------------------\")\n",
    "        for query_id, data in self.cache.items():\n",
    "            print(\"Query ID:\", query_id)\n",
    "            print(\"Query:\", data[\"Query\"])\n",
    "            print(\"Data:\", data[\"data\"])\n",
    "            print(\"Timestamp:\", time.strftime('%Y-%m-%d %H:%M:%S', time.localtime(data[\"timestamp\"])))\n",
    "            print(\"--------------------\")\n",
    "\n",
    "    def export_to_json(self, filename):\n",
    "        cache_data = {\"cache\": self.cache, \"id_list\": self.id_list}\n",
    "        with open(filename, 'w') as f:\n",
    "            json.dump(cache_data, f)\n",
    "\n",
    "    def _auto_refresh_cache(self):\n",
    "        while True:\n",
    "            current_time = time.time()\n",
    "            if current_time - self.last_refresh_time >= self.refresh_time:\n",
    "                self._refresh_cache()\n",
    "                print(\"Cache refreshed at:\", time.strftime('%Y-%m-%d %H:%M:%S', time.localtime(current_time)))\n",
    "            time.sleep(self.refresh_time / 2)"
   ]
  },
  {
   "cell_type": "code",
   "execution_count": 81,
   "metadata": {},
   "outputs": [],
   "source": [
    "tweet_cache = TweetCache(max_size=30)\n",
    "\n",
    "# Adding values to cache\n",
    "for i in range(32):\n",
    "    tweet_cache.add_to_cache({\"username\": f\"user{i}\", \"age\": str(i)}, {\"tweet\": f\"example tweet {i}\"})"
   ]
  },
  {
   "cell_type": "code",
   "execution_count": 82,
   "metadata": {},
   "outputs": [
    {
     "name": "stdout",
     "output_type": "stream",
     "text": [
      "Current Cache Contents:\n",
      "ID List: ['user22', 'user33', 'user44', 'user55', 'user66', 'user77', 'user88', 'user99', 'user1010', 'user1111', 'user1212', 'user1313', 'user1414', 'user1515', 'user1616', 'user1717', 'user1818', 'user1919', 'user2020', 'user2121', 'user2222', 'user2323', 'user2424', 'user2525', 'user2626', 'user2727', 'user2828', 'user2929', 'user3030', 'user3131']\n",
      "--------------------\n",
      "Query ID: user22\n",
      "Query: {'username': 'user2', 'age': '2'}\n",
      "Data: {'tweet': 'example tweet 2'}\n",
      "Timestamp: 2024-04-22 11:39:03\n",
      "--------------------\n",
      "Query ID: user33\n",
      "Query: {'username': 'user3', 'age': '3'}\n",
      "Data: {'tweet': 'example tweet 3'}\n",
      "Timestamp: 2024-04-22 11:39:03\n",
      "--------------------\n",
      "Query ID: user44\n",
      "Query: {'username': 'user4', 'age': '4'}\n",
      "Data: {'tweet': 'example tweet 4'}\n",
      "Timestamp: 2024-04-22 11:39:03\n",
      "--------------------\n",
      "Query ID: user55\n",
      "Query: {'username': 'user5', 'age': '5'}\n",
      "Data: {'tweet': 'example tweet 5'}\n",
      "Timestamp: 2024-04-22 11:39:03\n",
      "--------------------\n",
      "Query ID: user66\n",
      "Query: {'username': 'user6', 'age': '6'}\n",
      "Data: {'tweet': 'example tweet 6'}\n",
      "Timestamp: 2024-04-22 11:39:03\n",
      "--------------------\n",
      "Query ID: user77\n",
      "Query: {'username': 'user7', 'age': '7'}\n",
      "Data: {'tweet': 'example tweet 7'}\n",
      "Timestamp: 2024-04-22 11:39:03\n",
      "--------------------\n",
      "Query ID: user88\n",
      "Query: {'username': 'user8', 'age': '8'}\n",
      "Data: {'tweet': 'example tweet 8'}\n",
      "Timestamp: 2024-04-22 11:39:03\n",
      "--------------------\n",
      "Query ID: user99\n",
      "Query: {'username': 'user9', 'age': '9'}\n",
      "Data: {'tweet': 'example tweet 9'}\n",
      "Timestamp: 2024-04-22 11:39:03\n",
      "--------------------\n",
      "Query ID: user1010\n",
      "Query: {'username': 'user10', 'age': '10'}\n",
      "Data: {'tweet': 'example tweet 10'}\n",
      "Timestamp: 2024-04-22 11:39:03\n",
      "--------------------\n",
      "Query ID: user1111\n",
      "Query: {'username': 'user11', 'age': '11'}\n",
      "Data: {'tweet': 'example tweet 11'}\n",
      "Timestamp: 2024-04-22 11:39:03\n",
      "--------------------\n",
      "Query ID: user1212\n",
      "Query: {'username': 'user12', 'age': '12'}\n",
      "Data: {'tweet': 'example tweet 12'}\n",
      "Timestamp: 2024-04-22 11:39:03\n",
      "--------------------\n",
      "Query ID: user1313\n",
      "Query: {'username': 'user13', 'age': '13'}\n",
      "Data: {'tweet': 'example tweet 13'}\n",
      "Timestamp: 2024-04-22 11:39:03\n",
      "--------------------\n",
      "Query ID: user1414\n",
      "Query: {'username': 'user14', 'age': '14'}\n",
      "Data: {'tweet': 'example tweet 14'}\n",
      "Timestamp: 2024-04-22 11:39:03\n",
      "--------------------\n",
      "Query ID: user1515\n",
      "Query: {'username': 'user15', 'age': '15'}\n",
      "Data: {'tweet': 'example tweet 15'}\n",
      "Timestamp: 2024-04-22 11:39:03\n",
      "--------------------\n",
      "Query ID: user1616\n",
      "Query: {'username': 'user16', 'age': '16'}\n",
      "Data: {'tweet': 'example tweet 16'}\n",
      "Timestamp: 2024-04-22 11:39:03\n",
      "--------------------\n",
      "Query ID: user1717\n",
      "Query: {'username': 'user17', 'age': '17'}\n",
      "Data: {'tweet': 'example tweet 17'}\n",
      "Timestamp: 2024-04-22 11:39:03\n",
      "--------------------\n",
      "Query ID: user1818\n",
      "Query: {'username': 'user18', 'age': '18'}\n",
      "Data: {'tweet': 'example tweet 18'}\n",
      "Timestamp: 2024-04-22 11:39:03\n",
      "--------------------\n",
      "Query ID: user1919\n",
      "Query: {'username': 'user19', 'age': '19'}\n",
      "Data: {'tweet': 'example tweet 19'}\n",
      "Timestamp: 2024-04-22 11:39:03\n",
      "--------------------\n",
      "Query ID: user2020\n",
      "Query: {'username': 'user20', 'age': '20'}\n",
      "Data: {'tweet': 'example tweet 20'}\n",
      "Timestamp: 2024-04-22 11:39:03\n",
      "--------------------\n",
      "Query ID: user2121\n",
      "Query: {'username': 'user21', 'age': '21'}\n",
      "Data: {'tweet': 'example tweet 21'}\n",
      "Timestamp: 2024-04-22 11:39:03\n",
      "--------------------\n",
      "Query ID: user2222\n",
      "Query: {'username': 'user22', 'age': '22'}\n",
      "Data: {'tweet': 'example tweet 22'}\n",
      "Timestamp: 2024-04-22 11:39:03\n",
      "--------------------\n",
      "Query ID: user2323\n",
      "Query: {'username': 'user23', 'age': '23'}\n",
      "Data: {'tweet': 'example tweet 23'}\n",
      "Timestamp: 2024-04-22 11:39:03\n",
      "--------------------\n",
      "Query ID: user2424\n",
      "Query: {'username': 'user24', 'age': '24'}\n",
      "Data: {'tweet': 'example tweet 24'}\n",
      "Timestamp: 2024-04-22 11:39:03\n",
      "--------------------\n",
      "Query ID: user2525\n",
      "Query: {'username': 'user25', 'age': '25'}\n",
      "Data: {'tweet': 'example tweet 25'}\n",
      "Timestamp: 2024-04-22 11:39:03\n",
      "--------------------\n",
      "Query ID: user2626\n",
      "Query: {'username': 'user26', 'age': '26'}\n",
      "Data: {'tweet': 'example tweet 26'}\n",
      "Timestamp: 2024-04-22 11:39:03\n",
      "--------------------\n",
      "Query ID: user2727\n",
      "Query: {'username': 'user27', 'age': '27'}\n",
      "Data: {'tweet': 'example tweet 27'}\n",
      "Timestamp: 2024-04-22 11:39:03\n",
      "--------------------\n",
      "Query ID: user2828\n",
      "Query: {'username': 'user28', 'age': '28'}\n",
      "Data: {'tweet': 'example tweet 28'}\n",
      "Timestamp: 2024-04-22 11:39:03\n",
      "--------------------\n",
      "Query ID: user2929\n",
      "Query: {'username': 'user29', 'age': '29'}\n",
      "Data: {'tweet': 'example tweet 29'}\n",
      "Timestamp: 2024-04-22 11:39:03\n",
      "--------------------\n",
      "Query ID: user3030\n",
      "Query: {'username': 'user30', 'age': '30'}\n",
      "Data: {'tweet': 'example tweet 30'}\n",
      "Timestamp: 2024-04-22 11:39:03\n",
      "--------------------\n",
      "Query ID: user3131\n",
      "Query: {'username': 'user31', 'age': '31'}\n",
      "Data: {'tweet': 'example tweet 31'}\n",
      "Timestamp: 2024-04-22 11:39:03\n",
      "--------------------\n"
     ]
    }
   ],
   "source": [
    "# Displaying cache contents\n",
    "tweet_cache.display_cache()"
   ]
  },
  {
   "cell_type": "code",
   "execution_count": 78,
   "metadata": {},
   "outputs": [
    {
     "name": "stdout",
     "output_type": "stream",
     "text": [
      "{'ID': 'user1010', 'Query': {'username': 'user10', 'age': '10'}, 'data': {'tweet': 'example tweet 10'}, 'timestamp': 1713800132.802891}\n"
     ]
    }
   ],
   "source": [
    "\n",
    "# Retrieving values from cache\n",
    "print(tweet_cache.get_from_cache({\"username\": \"user10\", \"age\": \"10\"}))\n"
   ]
  },
  {
   "cell_type": "code",
   "execution_count": 67,
   "metadata": {
    "id": "qj4BAHcAFCOo"
   },
   "outputs": [],
   "source": [
    "# Example usage:\n",
    "cache = TweetCache()\n",
    "\n",
    "# Add data to cache\n",
    "query = {'username': 'RED,', 'age': '20'}\n",
    "data = [{'tweetid': 123, 'username': 'user1'},\n",
    "        {'tweetid': 456, 'username': 'user2'}]"
   ]
  },
  {
   "cell_type": "code",
   "execution_count": 68,
   "metadata": {},
   "outputs": [],
   "source": [
    "# Add data to cache\n",
    "query1 = {'username': 'BLUE,', 'age': '21'}\n",
    "data1 = [{'tweetid': 456, 'username': 'user3'},\n",
    "        {'tweetid': 789, 'username': 'user4'}]"
   ]
  },
  {
   "cell_type": "code",
   "execution_count": 69,
   "metadata": {
    "id": "lE0B_HxlFGqi"
   },
   "outputs": [],
   "source": [
    "cache.add_to_cache(query, data)"
   ]
  },
  {
   "cell_type": "code",
   "execution_count": 70,
   "metadata": {},
   "outputs": [],
   "source": [
    "cache.add_to_cache(query1, data1)"
   ]
  },
  {
   "cell_type": "code",
   "execution_count": 71,
   "metadata": {},
   "outputs": [
    {
     "name": "stdout",
     "output_type": "stream",
     "text": [
      "Current Cache Contents:\n",
      "ID List: ['red20', 'blue21']\n",
      "--------------------\n",
      "Query ID: red20\n",
      "Query: {'username': 'RED,', 'age': '20'}\n",
      "Data: [{'tweetid': 123, 'username': 'user1'}, {'tweetid': 456, 'username': 'user2'}]\n",
      "Timestamp: 2024-04-21 19:38:26\n",
      "--------------------\n",
      "Query ID: blue21\n",
      "Query: {'username': 'BLUE,', 'age': '21'}\n",
      "Data: [{'tweetid': 456, 'username': 'user3'}, {'tweetid': 789, 'username': 'user4'}]\n",
      "Timestamp: 2024-04-21 19:38:27\n",
      "--------------------\n"
     ]
    }
   ],
   "source": [
    "cache.display_cache()"
   ]
  },
  {
   "cell_type": "code",
   "execution_count": 72,
   "metadata": {},
   "outputs": [],
   "source": [
    "cache.export_to_json(\"cache_data1.json\")"
   ]
  },
  {
   "cell_type": "code",
   "execution_count": 73,
   "metadata": {
    "colab": {
     "base_uri": "https://localhost:8080/"
    },
    "id": "jkmib8s4FJoy",
    "outputId": "5e0ab080-1b1f-4821-c34d-bd0378584150"
   },
   "outputs": [
    {
     "name": "stdout",
     "output_type": "stream",
     "text": [
      "Data found in cache:\n",
      "{\n",
      "    \"ID\": \"red20\",\n",
      "    \"Query\": {\n",
      "        \"username\": \"RED,\",\n",
      "        \"age\": \"20\"\n",
      "    },\n",
      "    \"data\": [\n",
      "        {\n",
      "            \"tweetid\": 123,\n",
      "            \"username\": \"user1\"\n",
      "        },\n",
      "        {\n",
      "            \"tweetid\": 456,\n",
      "            \"username\": \"user2\"\n",
      "        }\n",
      "    ],\n",
      "    \"timestamp\": 1713742706.3014503\n",
      "}\n",
      "Refreshing cache...\n",
      "Cache refreshed at: 2024-04-21 19:48:07\n",
      "Refreshing cache...\n",
      "Cache refreshed at: 2024-04-21 19:52:29\n",
      "Refreshing cache...\n",
      "Cache refreshed at: 2024-04-21 19:53:33\n",
      "Refreshing cache...\n",
      "Cache refreshed at: 2024-04-21 19:53:51\n",
      "Refreshing cache...\n",
      "Cache refreshed at: 2024-04-21 19:54:15\n",
      "Refreshing cache...\n",
      "Cache refreshed at: 2024-04-21 19:59:02\n",
      "Refreshing cache...\n",
      "Cache refreshed at: 2024-04-21 20:01:20\n",
      "Refreshing cache...\n",
      "Cache refreshed at: 2024-04-21 20:04:52\n",
      "Refreshing cache...\n",
      "Cache refreshed at: 2024-04-21 20:07:27\n",
      "Refreshing cache...\n",
      "Cache refreshed at: 2024-04-21 20:08:22\n"
     ]
    },
    {
     "name": "stderr",
     "output_type": "stream",
     "text": [
      "Exception in thread Thread-10 (_auto_refresh_cache):\n",
      "Traceback (most recent call last):\n",
      "  File \"c:\\ProgramData\\anaconda3\\Lib\\threading.py\", line 1038, in _bootstrap_inner\n",
      "    self.run()\n",
      "  File \"c:\\ProgramData\\anaconda3\\Lib\\threading.py\", line 975, in run\n",
      "    self._target(*self._args, **self._kwargs)\n",
      "  File \"C:\\Users\\adish\\AppData\\Local\\Temp\\ipykernel_15972\\2244249987.py\", line 73, in _auto_refresh_cache\n",
      "  File \"C:\\Users\\adish\\AppData\\Local\\Temp\\ipykernel_15972\\2244249987.py\", line 21, in _refresh_cache\n",
      "KeyError: '{\"age\": \"20\", \"username\": \"red\"}'\n"
     ]
    },
    {
     "name": "stdout",
     "output_type": "stream",
     "text": [
      "Refreshing cache...\n"
     ]
    },
    {
     "name": "stderr",
     "output_type": "stream",
     "text": [
      "Exception in thread Thread-11 (_auto_refresh_cache):\n",
      "Traceback (most recent call last):\n",
      "  File \"c:\\ProgramData\\anaconda3\\Lib\\threading.py\", line 1038, in _bootstrap_inner\n",
      "    self.run()\n",
      "  File \"c:\\ProgramData\\anaconda3\\Lib\\threading.py\", line 975, in run\n",
      "    self._target(*self._args, **self._kwargs)\n",
      "  File \"C:\\Users\\adish\\AppData\\Local\\Temp\\ipykernel_15972\\1613476361.py\", line 73, in _auto_refresh_cache\n",
      "  File \"C:\\Users\\adish\\AppData\\Local\\Temp\\ipykernel_15972\\1613476361.py\", line 21, in _refresh_cache\n",
      "KeyError: '{\"age\": \"20\", \"username\": \"red\"}'\n"
     ]
    },
    {
     "name": "stdout",
     "output_type": "stream",
     "text": [
      "Refreshing cache...\n"
     ]
    },
    {
     "name": "stderr",
     "output_type": "stream",
     "text": [
      "Exception in thread Thread-5 (_auto_refresh_cache):\n",
      "Traceback (most recent call last):\n",
      "  File \"c:\\ProgramData\\anaconda3\\Lib\\threading.py\", line 1038, in _bootstrap_inner\n",
      "    self.run()\n",
      "  File \"c:\\ProgramData\\anaconda3\\Lib\\threading.py\", line 975, in run\n",
      "    self._target(*self._args, **self._kwargs)\n",
      "  File \"C:\\Users\\adish\\AppData\\Local\\Temp\\ipykernel_15972\\1455812302.py\", line 62, in _auto_refresh_cache\n",
      "  File \"C:\\Users\\adish\\AppData\\Local\\Temp\\ipykernel_15972\\1455812302.py\", line 21, in _refresh_cache\n",
      "KeyError: '{\"age\": \"20\", \"username\": \"red\"}'\n"
     ]
    },
    {
     "name": "stdout",
     "output_type": "stream",
     "text": [
      "Refreshing cache...\n"
     ]
    },
    {
     "name": "stderr",
     "output_type": "stream",
     "text": [
      "Exception in thread Thread-12 (_auto_refresh_cache):\n",
      "Traceback (most recent call last):\n",
      "  File \"c:\\ProgramData\\anaconda3\\Lib\\threading.py\", line 1038, in _bootstrap_inner\n",
      "    self.run()\n",
      "  File \"c:\\ProgramData\\anaconda3\\Lib\\threading.py\", line 975, in run\n",
      "    self._target(*self._args, **self._kwargs)\n",
      "  File \"C:\\Users\\adish\\AppData\\Local\\Temp\\ipykernel_15972\\1613476361.py\", line 73, in _auto_refresh_cache\n",
      "  File \"C:\\Users\\adish\\AppData\\Local\\Temp\\ipykernel_15972\\1613476361.py\", line 21, in _refresh_cache\n",
      "KeyError: '{\"age\": \"20\", \"username\": \"red\"}'\n"
     ]
    },
    {
     "name": "stdout",
     "output_type": "stream",
     "text": [
      "Refreshing cache...\n",
      "Refreshing cache...\n",
      "Cache refreshed at: 2024-04-21 21:19:08\n"
     ]
    },
    {
     "name": "stderr",
     "output_type": "stream",
     "text": [
      "Exception in thread Thread-6 (_auto_refresh_cache):\n",
      "Traceback (most recent call last):\n",
      "  File \"c:\\ProgramData\\anaconda3\\Lib\\threading.py\", line 1038, in _bootstrap_inner\n",
      "    self.run()\n",
      "  File \"c:\\ProgramData\\anaconda3\\Lib\\threading.py\", line 975, in run\n",
      "    self._target(*self._args, **self._kwargs)\n",
      "  File \"C:\\Users\\adish\\AppData\\Local\\Temp\\ipykernel_15972\\498454303.py\", line 71, in _auto_refresh_cache\n",
      "  File \"C:\\Users\\adish\\AppData\\Local\\Temp\\ipykernel_15972\\498454303.py\", line 21, in _refresh_cache\n",
      "KeyError: '{\"age\": \"20\", \"username\": \"red\"}'\n"
     ]
    },
    {
     "name": "stdout",
     "output_type": "stream",
     "text": [
      "Refreshing cache...\n",
      "Refreshing cache...\n",
      "Cache refreshed at: 2024-04-21 21:20:03\n"
     ]
    },
    {
     "name": "stderr",
     "output_type": "stream",
     "text": [
      "Exception in thread Thread-7 (_auto_refresh_cache):\n",
      "Traceback (most recent call last):\n",
      "  File \"c:\\ProgramData\\anaconda3\\Lib\\threading.py\", line 1038, in _bootstrap_inner\n",
      "    self.run()\n",
      "  File \"c:\\ProgramData\\anaconda3\\Lib\\threading.py\", line 975, in run\n",
      "    self._target(*self._args, **self._kwargs)\n",
      "  File \"C:\\Users\\adish\\AppData\\Local\\Temp\\ipykernel_15972\\1329999034.py\", line 72, in _auto_refresh_cache\n",
      "  File \"C:\\Users\\adish\\AppData\\Local\\Temp\\ipykernel_15972\\1329999034.py\", line 21, in _refresh_cache\n",
      "KeyError: '{\"age\": \"20\", \"username\": \"red\"}'\n"
     ]
    },
    {
     "name": "stdout",
     "output_type": "stream",
     "text": [
      "Refreshing cache...\n"
     ]
    },
    {
     "name": "stderr",
     "output_type": "stream",
     "text": [
      "Exception in thread Thread-8 (_auto_refresh_cache):\n",
      "Traceback (most recent call last):\n",
      "  File \"c:\\ProgramData\\anaconda3\\Lib\\threading.py\", line 1038, in _bootstrap_inner\n",
      "    self.run()\n",
      "  File \"c:\\ProgramData\\anaconda3\\Lib\\threading.py\", line 975, in run\n",
      "    self._target(*self._args, **self._kwargs)\n",
      "  File \"C:\\Users\\adish\\AppData\\Local\\Temp\\ipykernel_15972\\2912041832.py\", line 73, in _auto_refresh_cache\n",
      "  File \"C:\\Users\\adish\\AppData\\Local\\Temp\\ipykernel_15972\\2912041832.py\", line 21, in _refresh_cache\n",
      "KeyError: '{\"age\": \"20\", \"username\": \"red\"}'\n"
     ]
    },
    {
     "name": "stdout",
     "output_type": "stream",
     "text": [
      "Refreshing cache...\n"
     ]
    },
    {
     "name": "stderr",
     "output_type": "stream",
     "text": [
      "Exception in thread Thread-9 (_auto_refresh_cache):\n",
      "Traceback (most recent call last):\n",
      "  File \"c:\\ProgramData\\anaconda3\\Lib\\threading.py\", line 1038, in _bootstrap_inner\n",
      "    self.run()\n",
      "  File \"c:\\ProgramData\\anaconda3\\Lib\\threading.py\", line 975, in run\n",
      "    self._target(*self._args, **self._kwargs)\n",
      "  File \"C:\\Users\\adish\\AppData\\Local\\Temp\\ipykernel_15972\\78655480.py\", line 73, in _auto_refresh_cache\n",
      "  File \"C:\\Users\\adish\\AppData\\Local\\Temp\\ipykernel_15972\\78655480.py\", line 21, in _refresh_cache\n",
      "KeyError: '{\"age\": \"20\", \"username\": \"red\"}'\n"
     ]
    },
    {
     "name": "stdout",
     "output_type": "stream",
     "text": [
      "Refreshing cache...\n",
      "Refreshing cache...\n",
      "Cache refreshed at: 2024-04-22 00:46:43\n",
      "Refreshing cache...\n",
      "Cache refreshed at: 2024-04-22 00:47:38\n"
     ]
    }
   ],
   "source": [
    "# Retrieve data from cache\n",
    "cached_data = cache.get_from_cache(query)\n",
    "if cached_data:\n",
    "    print(\"Data found in cache:\")\n",
    "    print(json.dumps(cached_data, indent=4))\n",
    "else:\n",
    "    print(\"Data not found in cache.\")"
   ]
  }
 ],
 "metadata": {
  "colab": {
   "provenance": []
  },
  "kernelspec": {
   "display_name": "conda_python3",
   "language": "python",
   "name": "conda_python3"
  },
  "language_info": {
   "codemirror_mode": {
    "name": "ipython",
    "version": 3
   },
   "file_extension": ".py",
   "mimetype": "text/x-python",
   "name": "python",
   "nbconvert_exporter": "python",
   "pygments_lexer": "ipython3",
   "version": "3.11.5"
  }
 },
 "nbformat": 4,
 "nbformat_minor": 4
}
