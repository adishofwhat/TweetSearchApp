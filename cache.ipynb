{
  "cells": [
    {
      "cell_type": "code",
      "execution_count": 39,
      "metadata": {
        "id": "TD55pP8lE7y7"
      },
      "outputs": [],
      "source": [
        "import json\n",
        "import time\n",
        "import re\n",
        "import threading"
      ]
    },
    {
      "cell_type": "code",
      "execution_count": 63,
      "metadata": {
        "id": "S9xdAMHoE-Ap"
      },
      "outputs": [],
      "source": [
        "class TweetCache:\n",
        "    def __init__(self):\n",
        "        self.cache = {}\n",
        "        self.refresh_time = 30 * 60\n",
        "        self.last_refresh_time = time.time()\n",
        "\n",
        "        self.refresh_thread = threading.Thread(target=self._auto_refresh_cache)\n",
        "        self.refresh_thread.daemon = True\n",
        "        self.refresh_thread.start()\n",
        "\n",
        "    def _refresh_cache(self):\n",
        "        print(\"Refreshing cache...\")\n",
        "        self.cache = {}\n",
        "        self.last_refresh_time = time.time()\n",
        "\n",
        "    def _normalize_query_input(self, query):\n",
        "        normalized_values = {key: self._clean_text(str(value).lower()) for key, value in query.items()}\n",
        "        return normalized_values\n",
        "\n",
        "    def _clean_text(self, text):\n",
        "        cleaned_text = re.sub(r'[^a-zA-Z0-9\\s]', '', text)\n",
        "        return cleaned_text.strip()\n",
        "\n",
        "    def _get_query_id(self, query):\n",
        "        normalized_query = self._normalize_query_input(query)\n",
        "        return json.dumps(normalized_query, sort_keys=True)\n",
        "\n",
        "    def _get_ui_input_concatenated(self, query):\n",
        "        return ''.join(self._normalize_query_input(query).values())\n",
        "\n",
        "    def add_to_cache(self, query, data):\n",
        "        query_id = self._get_query_id(query)\n",
        "        ui_input_concatenated = self._get_ui_input_concatenated(query)\n",
        "        self.cache[query_id] = {\n",
        "            'ID': ui_input_concatenated,\n",
        "            'Query': query,\n",
        "            'data': data\n",
        "        }\n",
        "\n",
        "    def get_from_cache(self, query):\n",
        "        query_id = self._get_query_id(query)\n",
        "        if query_id in self.cache:\n",
        "            return self.cache[query_id]\n",
        "        else:\n",
        "            return None\n",
        "\n",
        "    def _auto_refresh_cache(self):\n",
        "        while True:\n",
        "            current_time = time.time()\n",
        "            if current_time - self.last_refresh_time >= self.refresh_time:\n",
        "                self._refresh_cache()\n",
        "                print(\"Cache refreshed at:\", time.strftime('%Y-%m-%d %H:%M:%S', time.localtime(current_time)))\n",
        "            time.sleep(self.refresh_time / 2)\n"
      ]
    },
    {
      "cell_type": "code",
      "execution_count": 64,
      "metadata": {
        "id": "qj4BAHcAFCOo"
      },
      "outputs": [],
      "source": [
        "# Example usage:\n",
        "cache = TweetCache()\n",
        "\n",
        "# Add data to cache\n",
        "query = {'username': 'RED,', 'age': '20'}\n",
        "data = [{'tweetid': 123, 'username': 'user1'},\n",
        "        {'tweetid': 456, 'username': 'user2'}]"
      ]
    },
    {
      "cell_type": "code",
      "execution_count": 65,
      "metadata": {
        "id": "lE0B_HxlFGqi"
      },
      "outputs": [],
      "source": [
        "cache.add_to_cache(query, data)"
      ]
    },
    {
      "cell_type": "code",
      "execution_count": 66,
      "metadata": {
        "colab": {
          "base_uri": "https://localhost:8080/"
        },
        "id": "jkmib8s4FJoy",
        "outputId": "5e0ab080-1b1f-4821-c34d-bd0378584150"
      },
      "outputs": [
        {
          "name": "stdout",
          "output_type": "stream",
          "text": [
            "Data found in cache:\n",
            "{\n",
            "    \"ID\": \"red20\",\n",
            "    \"Query\": {\n",
            "        \"username\": \"RED,\",\n",
            "        \"age\": \"20\"\n",
            "    },\n",
            "    \"data\": [\n",
            "        {\n",
            "            \"tweetid\": 123,\n",
            "            \"username\": \"user1\"\n",
            "        },\n",
            "        {\n",
            "            \"tweetid\": 456,\n",
            "            \"username\": \"user2\"\n",
            "        }\n",
            "    ]\n",
            "}\n"
          ]
        }
      ],
      "source": [
        "# Retrieve data from cache\n",
        "cached_data = cache.get_from_cache(query)\n",
        "if cached_data:\n",
        "    print(\"Data found in cache:\")\n",
        "    print(json.dumps(cached_data, indent=4))\n",
        "else:\n",
        "    print(\"Data not found in cache.\")"
      ]
    }
  ],
  "metadata": {
    "colab": {
      "provenance": []
    },
    "kernelspec": {
      "display_name": "Python 3",
      "name": "python3"
    },
    "language_info": {
      "name": "python"
    }
  },
  "nbformat": 4,
  "nbformat_minor": 0
}
