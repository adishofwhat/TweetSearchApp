{
 "cells": [
  {
   "cell_type": "code",
   "execution_count": 1,
   "id": "a531919c-e668-4cbd-ae1f-6e9e0a6bfe21",
   "metadata": {
    "tags": []
   },
   "outputs": [],
   "source": [
    "#First Notebook"
   ]
  },
  {
   "cell_type": "code",
   "execution_count": null,
   "id": "aa31bc9b-5272-4c6a-b909-e60ea5a5bd81",
   "metadata": {},
   "outputs": [],
   "source": []
  }
 ],
 "metadata": {
  "kernelspec": {
   "display_name": "conda_python3",
   "language": "python",
   "name": "conda_python3"
  },
  "language_info": {
   "codemirror_mode": {
    "name": "ipython",
    "version": 3
   },
   "file_extension": ".py",
   "mimetype": "text/x-python",
   "name": "python",
   "nbconvert_exporter": "python",
   "pygments_lexer": "ipython3",
   "version": "3.10.13"
  }
 },
 "nbformat": 4,
 "nbformat_minor": 5
}
