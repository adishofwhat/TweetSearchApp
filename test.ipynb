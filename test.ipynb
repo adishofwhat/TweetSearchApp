{
 "cells": [
  {
   "cell_type": "code",
   "execution_count": 1,
   "id": "a531919c-e668-4cbd-ae1f-6e9e0a6bfe21",
   "metadata": {
    "tags": []
   },
   "outputs": [],
   "source": [
    "#First Notebook"
   ]
  },
  {
   "cell_type": "code",
   "execution_count": 2,
   "id": "aa31bc9b-5272-4c6a-b909-e60ea5a5bd81",
   "metadata": {},
   "outputs": [
    {
     "name": "stdout",
     "output_type": "stream",
     "text": [
      "Collecting boto\n",
      "  Downloading boto-2.49.0-py2.py3-none-any.whl.metadata (7.3 kB)\n",
      "Downloading boto-2.49.0-py2.py3-none-any.whl (1.4 MB)\n",
      "\u001b[2K   \u001b[90m━━━━━━━━━━━━━━━━━━━━━━━━━━━━━━━━━━━━━━━━\u001b[0m \u001b[32m1.4/1.4 MB\u001b[0m \u001b[31m16.2 MB/s\u001b[0m eta \u001b[36m0:00:00\u001b[0m00:01\u001b[0m0:01\u001b[0m\n",
      "\u001b[?25hInstalling collected packages: boto\n",
      "Successfully installed boto-2.49.0\n"
     ]
    }
   ],
   "source": [
    "!pip install boto"
   ]
  },
  {
   "cell_type": "code",
   "execution_count": 3,
   "id": "1a19bc3b-a0de-4a6f-9e2e-6d6cc311322a",
   "metadata": {
    "tags": []
   },
   "outputs": [
    {
     "name": "stdout",
     "output_type": "stream",
     "text": [
      "Collecting opensearch-py\n",
      "  Downloading opensearch_py-2.5.0-py2.py3-none-any.whl.metadata (6.8 kB)\n",
      "Collecting urllib3<2,>=1.26.18 (from opensearch-py)\n",
      "  Downloading urllib3-1.26.18-py2.py3-none-any.whl.metadata (48 kB)\n",
      "\u001b[2K     \u001b[90m━━━━━━━━━━━━━━━━━━━━━━━━━━━━━━━━━━━━━━━━\u001b[0m \u001b[32m48.9/48.9 kB\u001b[0m \u001b[31m2.5 MB/s\u001b[0m eta \u001b[36m0:00:00\u001b[0m\n",
      "\u001b[?25hRequirement already satisfied: requests<3.0.0,>=2.4.0 in /home/ec2-user/anaconda3/envs/python3/lib/python3.10/site-packages (from opensearch-py) (2.31.0)\n",
      "Requirement already satisfied: six in /home/ec2-user/anaconda3/envs/python3/lib/python3.10/site-packages (from opensearch-py) (1.16.0)\n",
      "Requirement already satisfied: python-dateutil in /home/ec2-user/anaconda3/envs/python3/lib/python3.10/site-packages (from opensearch-py) (2.8.2)\n",
      "Requirement already satisfied: certifi>=2022.12.07 in /home/ec2-user/anaconda3/envs/python3/lib/python3.10/site-packages (from opensearch-py) (2024.2.2)\n",
      "Requirement already satisfied: charset-normalizer<4,>=2 in /home/ec2-user/anaconda3/envs/python3/lib/python3.10/site-packages (from requests<3.0.0,>=2.4.0->opensearch-py) (3.3.2)\n",
      "Requirement already satisfied: idna<4,>=2.5 in /home/ec2-user/anaconda3/envs/python3/lib/python3.10/site-packages (from requests<3.0.0,>=2.4.0->opensearch-py) (3.6)\n",
      "Downloading opensearch_py-2.5.0-py2.py3-none-any.whl (266 kB)\n",
      "\u001b[2K   \u001b[90m━━━━━━━━━━━━━━━━━━━━━━━━━━━━━━━━━━━━━━━━\u001b[0m \u001b[32m266.1/266.1 kB\u001b[0m \u001b[31m3.7 MB/s\u001b[0m eta \u001b[36m0:00:00\u001b[0ma \u001b[36m0:00:01\u001b[0m\n",
      "\u001b[?25hDownloading urllib3-1.26.18-py2.py3-none-any.whl (143 kB)\n",
      "\u001b[2K   \u001b[90m━━━━━━━━━━━━━━━━━━━━━━━━━━━━━━━━━━━━━━━━\u001b[0m \u001b[32m143.8/143.8 kB\u001b[0m \u001b[31m18.2 MB/s\u001b[0m eta \u001b[36m0:00:00\u001b[0m\n",
      "\u001b[?25hInstalling collected packages: urllib3, opensearch-py\n",
      "  Attempting uninstall: urllib3\n",
      "    Found existing installation: urllib3 2.0.7\n",
      "    Uninstalling urllib3-2.0.7:\n",
      "      Successfully uninstalled urllib3-2.0.7\n",
      "\u001b[31mERROR: pip's dependency resolver does not currently take into account all the packages that are installed. This behaviour is the source of the following dependency conflicts.\n",
      "sparkmagic 0.21.0 requires pandas<2.0.0,>=0.17.1, but you have pandas 2.2.0 which is incompatible.\n",
      "sphinx 7.2.6 requires docutils<0.21,>=0.18.1, but you have docutils 0.16 which is incompatible.\u001b[0m\u001b[31m\n",
      "\u001b[0mSuccessfully installed opensearch-py-2.5.0 urllib3-1.26.18\n"
     ]
    }
   ],
   "source": [
    "!pip install opensearch-py"
   ]
  },
  {
   "cell_type": "code",
   "execution_count": 4,
   "id": "474cd272-32ca-401d-aa7b-b6c3584700ea",
   "metadata": {
    "tags": []
   },
   "outputs": [
    {
     "name": "stdout",
     "output_type": "stream",
     "text": [
      "Collecting requests-aws4auth\n",
      "  Downloading requests_aws4auth-1.2.3-py2.py3-none-any.whl.metadata (18 kB)\n",
      "Requirement already satisfied: requests in /home/ec2-user/anaconda3/envs/python3/lib/python3.10/site-packages (from requests-aws4auth) (2.31.0)\n",
      "Requirement already satisfied: six in /home/ec2-user/anaconda3/envs/python3/lib/python3.10/site-packages (from requests-aws4auth) (1.16.0)\n",
      "Requirement already satisfied: charset-normalizer<4,>=2 in /home/ec2-user/anaconda3/envs/python3/lib/python3.10/site-packages (from requests->requests-aws4auth) (3.3.2)\n",
      "Requirement already satisfied: idna<4,>=2.5 in /home/ec2-user/anaconda3/envs/python3/lib/python3.10/site-packages (from requests->requests-aws4auth) (3.6)\n",
      "Requirement already satisfied: urllib3<3,>=1.21.1 in /home/ec2-user/anaconda3/envs/python3/lib/python3.10/site-packages (from requests->requests-aws4auth) (1.26.18)\n",
      "Requirement already satisfied: certifi>=2017.4.17 in /home/ec2-user/anaconda3/envs/python3/lib/python3.10/site-packages (from requests->requests-aws4auth) (2024.2.2)\n",
      "Downloading requests_aws4auth-1.2.3-py2.py3-none-any.whl (24 kB)\n",
      "Installing collected packages: requests-aws4auth\n",
      "Successfully installed requests-aws4auth-1.2.3\n"
     ]
    }
   ],
   "source": [
    "!pip install requests-aws4auth"
   ]
  },
  {
   "cell_type": "code",
   "execution_count": 17,
   "id": "808c833a-5b21-44e5-9886-c0d066da61ff",
   "metadata": {
    "tags": []
   },
   "outputs": [
    {
     "name": "stdout",
     "output_type": "stream",
     "text": [
      "Requirement already satisfied: awswrangler in /home/ec2-user/anaconda3/envs/python3/lib/python3.10/site-packages (3.7.3)\n",
      "Requirement already satisfied: boto3<2.0.0,>=1.20.32 in /home/ec2-user/anaconda3/envs/python3/lib/python3.10/site-packages (from awswrangler) (1.34.85)\n",
      "Requirement already satisfied: botocore<2.0.0,>=1.23.32 in /home/ec2-user/anaconda3/envs/python3/lib/python3.10/site-packages (from awswrangler) (1.34.85)\n",
      "Requirement already satisfied: numpy<2.0,>=1.18 in /home/ec2-user/anaconda3/envs/python3/lib/python3.10/site-packages (from awswrangler) (1.22.4)\n",
      "Requirement already satisfied: packaging<25.0,>=21.1 in /home/ec2-user/anaconda3/envs/python3/lib/python3.10/site-packages (from awswrangler) (21.3)\n",
      "Requirement already satisfied: pandas<3.0.0,>=1.2.0 in /home/ec2-user/anaconda3/envs/python3/lib/python3.10/site-packages (from awswrangler) (2.2.0)\n",
      "Requirement already satisfied: pyarrow>=8.0.0 in /home/ec2-user/anaconda3/envs/python3/lib/python3.10/site-packages (from awswrangler) (15.0.0)\n",
      "Requirement already satisfied: typing-extensions<5.0.0,>=4.4.0 in /home/ec2-user/anaconda3/envs/python3/lib/python3.10/site-packages (from awswrangler) (4.9.0)\n",
      "Requirement already satisfied: jmespath<2.0.0,>=0.7.1 in /home/ec2-user/anaconda3/envs/python3/lib/python3.10/site-packages (from boto3<2.0.0,>=1.20.32->awswrangler) (1.0.1)\n",
      "Requirement already satisfied: s3transfer<0.11.0,>=0.10.0 in /home/ec2-user/anaconda3/envs/python3/lib/python3.10/site-packages (from boto3<2.0.0,>=1.20.32->awswrangler) (0.10.0)\n",
      "Requirement already satisfied: python-dateutil<3.0.0,>=2.1 in /home/ec2-user/anaconda3/envs/python3/lib/python3.10/site-packages (from botocore<2.0.0,>=1.23.32->awswrangler) (2.8.2)\n",
      "Requirement already satisfied: urllib3!=2.2.0,<3,>=1.25.4 in /home/ec2-user/anaconda3/envs/python3/lib/python3.10/site-packages (from botocore<2.0.0,>=1.23.32->awswrangler) (1.26.18)\n",
      "Requirement already satisfied: pyparsing!=3.0.5,>=2.0.2 in /home/ec2-user/anaconda3/envs/python3/lib/python3.10/site-packages (from packaging<25.0,>=21.1->awswrangler) (3.1.1)\n",
      "Requirement already satisfied: pytz>=2020.1 in /home/ec2-user/anaconda3/envs/python3/lib/python3.10/site-packages (from pandas<3.0.0,>=1.2.0->awswrangler) (2024.1)\n",
      "Requirement already satisfied: tzdata>=2022.7 in /home/ec2-user/anaconda3/envs/python3/lib/python3.10/site-packages (from pandas<3.0.0,>=1.2.0->awswrangler) (2024.1)\n",
      "Requirement already satisfied: six>=1.5 in /home/ec2-user/anaconda3/envs/python3/lib/python3.10/site-packages (from python-dateutil<3.0.0,>=2.1->botocore<2.0.0,>=1.23.32->awswrangler) (1.16.0)\n"
     ]
    }
   ],
   "source": [
    "!pip install awswrangler"
   ]
  },
  {
   "cell_type": "code",
   "execution_count": 18,
   "id": "4ea90ad6-c7e2-4159-9969-1bd0e205ccad",
   "metadata": {
    "tags": []
   },
   "outputs": [
    {
     "name": "stdout",
     "output_type": "stream",
     "text": [
      "Requirement already satisfied: jsonpath-ng in /home/ec2-user/anaconda3/envs/python3/lib/python3.10/site-packages (1.6.1)\n",
      "Requirement already satisfied: ply in /home/ec2-user/anaconda3/envs/python3/lib/python3.10/site-packages (from jsonpath-ng) (3.11)\n"
     ]
    }
   ],
   "source": [
    "!pip install jsonpath-ng"
   ]
  },
  {
   "cell_type": "code",
   "execution_count": 5,
   "id": "a1d2f29a-7aca-43db-bf3a-bb4a7ed282d3",
   "metadata": {
    "tags": []
   },
   "outputs": [],
   "source": [
    "#Imports\n",
    "import json\n",
    "import pandas as pd\n",
    "from opensearchpy import OpenSearch, RequestsHttpConnection\n",
    "from requests_aws4auth import AWS4Auth\n",
    "import boto3"
   ]
  },
  {
   "cell_type": "code",
   "execution_count": 10,
   "id": "f51117ea-4c26-42e0-ad69-77a304836129",
   "metadata": {
    "tags": []
   },
   "outputs": [],
   "source": [
    "def os_connection():\n",
    "    host = 'search-dbms-twitter-domain-xpmt2uaqemhxgnw3ucwekwhvhq.us-east-2.es.amazonaws.com'\n",
    "    region = 'us-east-2'\n",
    "\n",
    "    service = 'es'\n",
    "    credentials = boto3.Session().get_credentials()\n",
    "    awsauth = AWS4Auth(region = region, service = service, session_token = credentials.token, refreshable_credentials = credentials)\n",
    "\n",
    "    os = OpenSearch(\n",
    "        hosts = [{'host': host, 'port': 443}],\n",
    "        http_auth = awsauth,\n",
    "        use_ssl = True,\n",
    "        verify_certs = True,\n",
    "        connection_class = RequestsHttpConnection)\n",
    "    \n",
    "    return os"
   ]
  },
  {
   "cell_type": "code",
   "execution_count": 11,
   "id": "e9c96d89-2ae8-4dd3-b0ba-318b92820dbb",
   "metadata": {
    "tags": []
   },
   "outputs": [],
   "source": [
    "os = os_connection()"
   ]
  },
  {
   "cell_type": "code",
   "execution_count": 9,
   "id": "0694a263-9539-4890-bd8c-8e692b944288",
   "metadata": {
    "tags": []
   },
   "outputs": [],
   "source": [
    "#Match Query: This type of query matches documents based on a specific field and value.\n",
    "query = {\n",
    "    \"query\": {\n",
    "        \"match\": {\n",
    "            \"field_name\": \"search_value\"\n",
    "        }\n",
    "    }\n",
    "}\n",
    "\n",
    "#Term Query: This query matches documents where a specified field contains a particular term.\n",
    "query = {\n",
    "    \"query\": {\n",
    "        \"term\": {\n",
    "            \"field_name\": \"search_term\"\n",
    "        }\n",
    "    }\n",
    "}\n",
    "\n",
    "#Range Query: Use this query to match documents within a specified range.\n",
    "query = {\n",
    "    \"query\": {\n",
    "        \"range\": {\n",
    "            \"date_field\": {\n",
    "                \"gte\": \"2024-01-01\",\n",
    "                \"lte\": \"2024-03-31\"\n",
    "            }\n",
    "        }\n",
    "    }\n",
    "}\n",
    "\n",
    "#Bool Query: Combine multiple queries using boolean logic (must, should, must_not).\n",
    "query = {\n",
    "    \"query\": {\n",
    "        \"bool\": {\n",
    "            \"must\": [\n",
    "                {\"match\": {\"field1\": \"value1\"}},\n",
    "                {\"term\": {\"field2\": \"value2\"}}\n",
    "            ],\n",
    "            \"should\": [\n",
    "                {\"match\": {\"field3\": \"value3\"}}\n",
    "            ],\n",
    "            \"must_not\": [\n",
    "                {\"term\": {\"field4\": \"value4\"}}\n",
    "            ]\n",
    "        }\n",
    "    }\n",
    "}\n",
    "\n",
    "#Aggregation Query: Perform aggregations to summarize data.\n",
    "query = {\n",
    "    \"aggs\": {\n",
    "        \"agg_name\": {\n",
    "            \"aggregation_type\": {\n",
    "                \"field\": \"field_name\"\n",
    "            }\n",
    "        }\n",
    "    }\n",
    "}"
   ]
  },
  {
   "cell_type": "markdown",
   "id": "de50b801-2f03-42a1-8e93-3523d9b54223",
   "metadata": {},
   "source": [
    "## Adding a record"
   ]
  },
  {
   "cell_type": "code",
   "execution_count": 15,
   "id": "1d2012e2-e54a-48c7-97e9-dd7e862bb8c5",
   "metadata": {
    "tags": []
   },
   "outputs": [
    {
     "data": {
      "text/plain": [
       "{'_index': 'twitter-data-user',\n",
       " '_id': 'jjTXB48B7iUTFS3gcQb7',\n",
       " '_version': 1,\n",
       " 'result': 'created',\n",
       " '_shards': {'total': 1, 'successful': 1, 'failed': 0},\n",
       " '_seq_no': 32676,\n",
       " '_primary_term': 1}"
      ]
     },
     "execution_count": 15,
     "metadata": {},
     "output_type": "execute_result"
    }
   ],
   "source": [
    "os.index(index = \"twitter-data-user\",body = {\"id_str\": \"Kalal1\"})"
   ]
  },
  {
   "cell_type": "markdown",
   "id": "e7191046-7bcd-4830-b62d-31e990f38981",
   "metadata": {},
   "source": [
    "## Deleting a record"
   ]
  },
  {
   "cell_type": "code",
   "execution_count": 14,
   "id": "d1b3e4e4-bbec-4d90-87fb-9e8488f69933",
   "metadata": {
    "tags": []
   },
   "outputs": [
    {
     "data": {
      "text/plain": [
       "{'took': 35,\n",
       " 'timed_out': False,\n",
       " 'total': 1,\n",
       " 'deleted': 1,\n",
       " 'batches': 1,\n",
       " 'version_conflicts': 0,\n",
       " 'noops': 0,\n",
       " 'retries': {'bulk': 0, 'search': 0},\n",
       " 'throttled_millis': 0,\n",
       " 'requests_per_second': -1.0,\n",
       " 'throttled_until_millis': 0,\n",
       " 'failures': []}"
      ]
     },
     "execution_count": 14,
     "metadata": {},
     "output_type": "execute_result"
    }
   ],
   "source": [
    "query = {\n",
    "    \"query\": {\n",
    "        \"match\": {\n",
    "            \"id_str\": \"Kalal1\"\n",
    "        }\n",
    "    }\n",
    "}\n",
    "os.delete_by_query(index=\"twitter-data-user\", body=query)"
   ]
  },
  {
   "cell_type": "markdown",
   "id": "4683f242-237a-49a9-b8e1-71b80a5dc1b5",
   "metadata": {},
   "source": [
    "## Updating a record by query"
   ]
  },
  {
   "cell_type": "code",
   "execution_count": 16,
   "id": "6b08db2a-7642-496f-8946-d40c4a800948",
   "metadata": {
    "tags": []
   },
   "outputs": [
    {
     "name": "stdout",
     "output_type": "stream",
     "text": [
      "{'took': 5933, 'timed_out': False, 'total': 1, 'updated': 1, 'deleted': 0, 'batches': 1, 'version_conflicts': 0, 'noops': 0, 'retries': {'bulk': 0, 'search': 0}, 'throttled_millis': 0, 'requests_per_second': -1.0, 'throttled_until_millis': 0, 'failures': []}\n"
     ]
    }
   ],
   "source": [
    "# Define the index name\n",
    "index_name = \"twitter-data-user\"\n",
    "\n",
    "# Define the update query\n",
    "update_query = {\n",
    "    \"script\": {\n",
    "        \"source\": \"ctx._source.id_str = params.new_value\",\n",
    "        \"params\": {\n",
    "            \"new_value\": \"Katik\"\n",
    "        }\n",
    "    },\n",
    "    \"query\": {\n",
    "        \"match\": {\n",
    "            \"id_str\": \"Kalal1\"\n",
    "        }\n",
    "    }\n",
    "}\n",
    "\n",
    "# Update documents in the index using the update by query API\n",
    "response = os.update_by_query(index=index_name, body=update_query)\n",
    "\n",
    "# Print the response\n",
    "print(response)"
   ]
  },
  {
   "cell_type": "markdown",
   "id": "02b89dda-65c9-4577-853d-563e7f4227a0",
   "metadata": {},
   "source": [
    "## Searching a record using AWS Wrangler"
   ]
  },
  {
   "cell_type": "code",
   "execution_count": 22,
   "id": "488fedab-d1e8-4239-abec-b3d2cac71c76",
   "metadata": {
    "tags": []
   },
   "outputs": [],
   "source": [
    "import awswrangler as wr\n",
    "import pandas as pd"
   ]
  },
  {
   "cell_type": "code",
   "execution_count": 23,
   "id": "234571a5-269a-408f-90d3-f018a073a591",
   "metadata": {
    "tags": []
   },
   "outputs": [],
   "source": [
    "wrangler = wr.opensearch.connect(host = 'https://search-dbms-twitter-domain-xpmt2uaqemhxgnw3ucwekwhvhq.us-east-2.es.amazonaws.com', port = 443, username = 'admin-shreyash', password = 'SskRutgers@123')"
   ]
  },
  {
   "cell_type": "code",
   "execution_count": 24,
   "id": "02762371-f5d2-486b-8f5a-101af80ae328",
   "metadata": {
    "tags": []
   },
   "outputs": [],
   "source": [
    "query ='''\n",
    "{\n",
    "  \"query\": {\n",
    "    \"match\": {\n",
    "      \"id_str\": \"Katik\"\n",
    "    }\n",
    "  }\n",
    "}\n",
    "'''"
   ]
  },
  {
   "cell_type": "code",
   "execution_count": 26,
   "id": "5c0a98de-9586-4750-a267-0c36ca111e56",
   "metadata": {
    "tags": []
   },
   "outputs": [
    {
     "data": {
      "text/html": [
       "<div>\n",
       "<style scoped>\n",
       "    .dataframe tbody tr th:only-of-type {\n",
       "        vertical-align: middle;\n",
       "    }\n",
       "\n",
       "    .dataframe tbody tr th {\n",
       "        vertical-align: top;\n",
       "    }\n",
       "\n",
       "    .dataframe thead th {\n",
       "        text-align: right;\n",
       "    }\n",
       "</style>\n",
       "<table border=\"1\" class=\"dataframe\">\n",
       "  <thead>\n",
       "    <tr style=\"text-align: right;\">\n",
       "      <th></th>\n",
       "      <th>_id</th>\n",
       "      <th>id_str</th>\n",
       "    </tr>\n",
       "  </thead>\n",
       "  <tbody>\n",
       "    <tr>\n",
       "      <th>0</th>\n",
       "      <td>jjTXB48B7iUTFS3gcQb7</td>\n",
       "      <td>Katik</td>\n",
       "    </tr>\n",
       "  </tbody>\n",
       "</table>\n",
       "</div>"
      ],
      "text/plain": [
       "                    _id id_str\n",
       "0  jjTXB48B7iUTFS3gcQb7  Katik"
      ]
     },
     "execution_count": 26,
     "metadata": {},
     "output_type": "execute_result"
    }
   ],
   "source": [
    "df = wr.opensearch.search(client = wrangler, index = 'twitter-data-user', \n",
    "                          search_body = query)\n",
    "df"
   ]
  },
  {
   "cell_type": "code",
   "execution_count": null,
   "id": "25037450-cd2b-4ee0-b300-2dccca937033",
   "metadata": {},
   "outputs": [],
   "source": []
  }
 ],
 "metadata": {
  "kernelspec": {
   "display_name": "conda_python3",
   "language": "python",
   "name": "conda_python3"
  },
  "language_info": {
   "codemirror_mode": {
    "name": "ipython",
    "version": 3
   },
   "file_extension": ".py",
   "mimetype": "text/x-python",
   "name": "python",
   "nbconvert_exporter": "python",
   "pygments_lexer": "ipython3",
   "version": "3.10.13"
  }
 },
 "nbformat": 4,
 "nbformat_minor": 5
}
